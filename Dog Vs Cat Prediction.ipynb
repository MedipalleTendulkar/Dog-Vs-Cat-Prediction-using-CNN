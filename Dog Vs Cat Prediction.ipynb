{
 "cells": [
  {
   "cell_type": "markdown",
   "metadata": {
    "colab_type": "text",
    "id": "EMefrVPCg-60"
   },
   "source": [
    "### Importing the libraries"
   ]
  },
  {
   "cell_type": "code",
   "execution_count": 1,
   "metadata": {
    "colab": {},
    "colab_type": "code",
    "id": "sCV30xyVhFbE"
   },
   "outputs": [
    {
     "name": "stderr",
     "output_type": "stream",
     "text": [
      "Using TensorFlow backend.\n"
     ]
    }
   ],
   "source": [
    "import tensorflow as tf\n",
    "from keras.preprocessing.image import ImageDataGenerator"
   ]
  },
  {
   "cell_type": "markdown",
   "metadata": {
    "colab_type": "text",
    "id": "oxQxCBWyoGPE"
   },
   "source": [
    "### Data Preprocessing"
   ]
  },
  {
   "cell_type": "code",
   "execution_count": 2,
   "metadata": {
    "colab": {
     "base_uri": "https://localhost:8080/",
     "height": 374
    },
    "colab_type": "code",
    "id": "0koUcJMJpEBD",
    "outputId": "71e33cd0-53fc-4a04-b818-eb73433f342a"
   },
   "outputs": [
    {
     "name": "stdout",
     "output_type": "stream",
     "text": [
      "Found 8000 images belonging to 2 classes.\n"
     ]
    }
   ],
   "source": [
    "# Pre-processing Training Dataset\n",
    "train_data = ImageDataGenerator(rescale = 1./255,\n",
    "                                   shear_range = 0.2,\n",
    "                                   zoom_range = 0.2,\n",
    "                                   horizontal_flip = True)\n",
    "training_set = train_data.flow_from_directory('D:/dataset/training_set',\n",
    "                                                 target_size = (64, 64),\n",
    "                                                 batch_size = 32,\n",
    "                                                 class_mode = 'binary')"
   ]
  },
  {
   "cell_type": "code",
   "execution_count": 3,
   "metadata": {
    "colab": {},
    "colab_type": "code",
    "id": "SH4WzfOhpKc3"
   },
   "outputs": [
    {
     "name": "stdout",
     "output_type": "stream",
     "text": [
      "Found 2000 images belonging to 2 classes.\n"
     ]
    }
   ],
   "source": [
    "# Pre-processing Test Data Set\n",
    "test_data = ImageDataGenerator(rescale = 1./255)\n",
    "test_set = test_data.flow_from_directory('D:/dataset/test_set',\n",
    "                                            target_size = (64, 64),\n",
    "                                            batch_size = 32,\n",
    "                                            class_mode = 'binary')"
   ]
  },
  {
   "cell_type": "markdown",
   "metadata": {
    "colab_type": "text",
    "id": "af8O4l90gk7B"
   },
   "source": [
    "## Building CNN"
   ]
  },
  {
   "cell_type": "code",
   "execution_count": 4,
   "metadata": {
    "colab": {},
    "colab_type": "code",
    "id": "SAUt4UMPlhLS"
   },
   "outputs": [],
   "source": [
    "# Initializing CNN\n",
    "cnn = tf.keras.models.Sequential()"
   ]
  },
  {
   "cell_type": "code",
   "execution_count": 5,
   "metadata": {
    "colab": {},
    "colab_type": "code",
    "id": "XPzPrMckl-hV"
   },
   "outputs": [],
   "source": [
    "# Convolutional Layer -1\n",
    "cnn.add(tf.keras.layers.Conv2D(filters=32, kernel_size=3, activation='relu', input_shape=[64, 64, 3]))"
   ]
  },
  {
   "cell_type": "code",
   "execution_count": 6,
   "metadata": {
    "colab": {},
    "colab_type": "code",
    "id": "ncpqPl69mOac"
   },
   "outputs": [],
   "source": [
    "# Pooling\n",
    "cnn.add(tf.keras.layers.MaxPool2D(pool_size=2, strides=2))"
   ]
  },
  {
   "cell_type": "code",
   "execution_count": 7,
   "metadata": {
    "colab": {},
    "colab_type": "code",
    "id": "i_-FZjn_m8gk"
   },
   "outputs": [],
   "source": [
    "# Convolutional Layer-2\n",
    "cnn.add(tf.keras.layers.Conv2D(filters=32, kernel_size=3, activation='relu'))\n",
    "cnn.add(tf.keras.layers.MaxPool2D(pool_size=2, strides=2))"
   ]
  },
  {
   "cell_type": "code",
   "execution_count": 8,
   "metadata": {
    "colab": {},
    "colab_type": "code",
    "id": "6AZeOGCvnNZn"
   },
   "outputs": [],
   "source": [
    "# Flattening\n",
    "cnn.add(tf.keras.layers.Flatten())\n",
    "\n",
    "# Full Connection\n",
    "cnn.add(tf.keras.layers.Dense(units=128, activation='relu'))\n"
   ]
  },
  {
   "cell_type": "code",
   "execution_count": 9,
   "metadata": {
    "colab": {},
    "colab_type": "code",
    "id": "1p_Zj1Mc3Ko_"
   },
   "outputs": [],
   "source": [
    "# Output Layer\n",
    "cnn.add(tf.keras.layers.Dense(units=1, activation='sigmoid'))"
   ]
  },
  {
   "cell_type": "markdown",
   "metadata": {
    "colab_type": "text",
    "id": "D6XkI90snSDl"
   },
   "source": [
    "## Training the CNN"
   ]
  },
  {
   "cell_type": "code",
   "execution_count": 10,
   "metadata": {
    "colab": {},
    "colab_type": "code",
    "id": "NALksrNQpUlJ"
   },
   "outputs": [],
   "source": [
    "# Compile CNN\n",
    "cnn.compile(optimizer = 'adam', loss = 'binary_crossentropy', metrics = ['accuracy'])"
   ]
  },
  {
   "cell_type": "code",
   "execution_count": 11,
   "metadata": {
    "colab": {},
    "colab_type": "code",
    "id": "XUj1W4PJptta"
   },
   "outputs": [
    {
     "name": "stdout",
     "output_type": "stream",
     "text": [
      "WARNING:tensorflow:sample_weight modes were coerced from\n",
      "  ...\n",
      "    to  \n",
      "  ['...']\n",
      "WARNING:tensorflow:sample_weight modes were coerced from\n",
      "  ...\n",
      "    to  \n",
      "  ['...']\n",
      "Train for 250 steps, validate for 63 steps\n",
      "Epoch 1/25\n",
      "250/250 [==============================] - 39s 155ms/step - loss: 0.6778 - accuracy: 0.5839 - val_loss: 0.6395 - val_accuracy: 0.6580\n",
      "Epoch 2/25\n",
      "250/250 [==============================] - 39s 156ms/step - loss: 0.6109 - accuracy: 0.6730 - val_loss: 0.5773 - val_accuracy: 0.7030\n",
      "Epoch 3/25\n",
      "250/250 [==============================] - 39s 157ms/step - loss: 0.5625 - accuracy: 0.7079 - val_loss: 0.5531 - val_accuracy: 0.7215\n",
      "Epoch 4/25\n",
      "250/250 [==============================] - 38s 151ms/step - loss: 0.5257 - accuracy: 0.7374 - val_loss: 0.5500 - val_accuracy: 0.7225\n",
      "Epoch 5/25\n",
      "250/250 [==============================] - 38s 152ms/step - loss: 0.5000 - accuracy: 0.7533 - val_loss: 0.4914 - val_accuracy: 0.7740\n",
      "Epoch 6/25\n",
      "250/250 [==============================] - 37s 148ms/step - loss: 0.4821 - accuracy: 0.7635 - val_loss: 0.4904 - val_accuracy: 0.7725\n",
      "Epoch 7/25\n",
      "250/250 [==============================] - 38s 153ms/step - loss: 0.4622 - accuracy: 0.7751 - val_loss: 0.5172 - val_accuracy: 0.7635\n",
      "Epoch 8/25\n",
      "250/250 [==============================] - 39s 155ms/step - loss: 0.4510 - accuracy: 0.7861 - val_loss: 0.4971 - val_accuracy: 0.7730\n",
      "Epoch 9/25\n",
      "250/250 [==============================] - 40s 161ms/step - loss: 0.4374 - accuracy: 0.7944 - val_loss: 0.4582 - val_accuracy: 0.7930\n",
      "Epoch 10/25\n",
      "250/250 [==============================] - 41s 165ms/step - loss: 0.4310 - accuracy: 0.7959 - val_loss: 0.4508 - val_accuracy: 0.7970\n",
      "Epoch 11/25\n",
      "250/250 [==============================] - 42s 167ms/step - loss: 0.4080 - accuracy: 0.8109 - val_loss: 0.4835 - val_accuracy: 0.7875\n",
      "Epoch 12/25\n",
      "250/250 [==============================] - 41s 164ms/step - loss: 0.4022 - accuracy: 0.8156 - val_loss: 0.4717 - val_accuracy: 0.7880\n",
      "Epoch 13/25\n",
      "250/250 [==============================] - 43s 172ms/step - loss: 0.3867 - accuracy: 0.8240 - val_loss: 0.4593 - val_accuracy: 0.7990\n",
      "Epoch 14/25\n",
      "250/250 [==============================] - 45s 180ms/step - loss: 0.3750 - accuracy: 0.8322 - val_loss: 0.4482 - val_accuracy: 0.8035\n",
      "Epoch 15/25\n",
      "250/250 [==============================] - 49s 198ms/step - loss: 0.3638 - accuracy: 0.8380 - val_loss: 0.4683 - val_accuracy: 0.8055\n",
      "Epoch 16/25\n",
      "250/250 [==============================] - 44s 177ms/step - loss: 0.3590 - accuracy: 0.8363 - val_loss: 0.4649 - val_accuracy: 0.7935\n",
      "Epoch 17/25\n",
      "250/250 [==============================] - 43s 172ms/step - loss: 0.3440 - accuracy: 0.8482 - val_loss: 0.5107 - val_accuracy: 0.7890\n",
      "Epoch 18/25\n",
      "250/250 [==============================] - 42s 170ms/step - loss: 0.3306 - accuracy: 0.8531 - val_loss: 0.4521 - val_accuracy: 0.8065\n",
      "Epoch 19/25\n",
      "250/250 [==============================] - 42s 167ms/step - loss: 0.3298 - accuracy: 0.8556 - val_loss: 0.4678 - val_accuracy: 0.8080\n",
      "Epoch 20/25\n",
      "250/250 [==============================] - 44s 175ms/step - loss: 0.3096 - accuracy: 0.8624 - val_loss: 0.4773 - val_accuracy: 0.8130\n",
      "Epoch 21/25\n",
      "250/250 [==============================] - 44s 176ms/step - loss: 0.3016 - accuracy: 0.8704 - val_loss: 0.5638 - val_accuracy: 0.7895\n",
      "Epoch 22/25\n",
      "250/250 [==============================] - 41s 166ms/step - loss: 0.2916 - accuracy: 0.8761 - val_loss: 0.4884 - val_accuracy: 0.8090\n",
      "Epoch 23/25\n",
      "250/250 [==============================] - 41s 162ms/step - loss: 0.2872 - accuracy: 0.8798 - val_loss: 0.4969 - val_accuracy: 0.8075\n",
      "Epoch 24/25\n",
      "250/250 [==============================] - 39s 155ms/step - loss: 0.2740 - accuracy: 0.8850 - val_loss: 0.5084 - val_accuracy: 0.8155\n",
      "Epoch 25/25\n",
      "250/250 [==============================] - 39s 156ms/step - loss: 0.2670 - accuracy: 0.8861 - val_loss: 0.5066 - val_accuracy: 0.8010\n"
     ]
    },
    {
     "data": {
      "text/plain": [
       "<tensorflow.python.keras.callbacks.History at 0x29f92b33848>"
      ]
     },
     "execution_count": 11,
     "metadata": {},
     "output_type": "execute_result"
    }
   ],
   "source": [
    "# Training model on Training set and evaluating on Test set\n",
    "cnn.fit(x = training_set, validation_data = test_set, epochs = 25)"
   ]
  },
  {
   "cell_type": "markdown",
   "metadata": {
    "colab_type": "text",
    "id": "U3PZasO0006Z"
   },
   "source": [
    "## Single Prediction"
   ]
  },
  {
   "cell_type": "code",
   "execution_count": 13,
   "metadata": {
    "colab": {},
    "colab_type": "code",
    "id": "gsSiWEJY1BPB"
   },
   "outputs": [
    {
     "name": "stdout",
     "output_type": "stream",
     "text": [
      "dog\n"
     ]
    }
   ],
   "source": [
    "import numpy as np\n",
    "from keras.preprocessing import image\n",
    "test_image = image.load_img('D:/dataset/test_set/dog.4074.jpg', target_size = (64, 64))\n",
    "test_image = image.img_to_array(test_image)\n",
    "test_image = np.expand_dims(test_image, axis = 0)\n",
    "result = cnn.predict(test_image)\n",
    "training_set.class_indices\n",
    "if result[0][0] == 1:\n",
    "  prediction = 'dog'\n",
    "else:\n",
    "  prediction = 'cat'\n",
    "\n",
    "print(prediction)"
   ]
  },
  {
   "cell_type": "code",
   "execution_count": null,
   "metadata": {},
   "outputs": [],
   "source": []
  }
 ],
 "metadata": {
  "colab": {
   "collapsed_sections": [],
   "name": "Copy of convolutional_neural_network.ipynb",
   "provenance": [],
   "toc_visible": true
  },
  "kernelspec": {
   "display_name": "Python 3",
   "language": "python",
   "name": "python3"
  },
  "language_info": {
   "codemirror_mode": {
    "name": "ipython",
    "version": 3
   },
   "file_extension": ".py",
   "mimetype": "text/x-python",
   "name": "python",
   "nbconvert_exporter": "python",
   "pygments_lexer": "ipython3",
   "version": "3.7.4"
  }
 },
 "nbformat": 4,
 "nbformat_minor": 1
}
